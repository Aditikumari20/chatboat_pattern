{
 "cells": [
  {
   "cell_type": "code",
   "execution_count": 1,
   "id": "5f768d23-fca6-4399-8a37-89a71c6d80d7",
   "metadata": {},
   "outputs": [
    {
     "name": "stdout",
     "output_type": "stream",
     "text": [
      "Requirement already satisfied: nltk in c:\\users\\adity\\anaconda3\\lib\\site-packages (3.9.1)\n",
      "Requirement already satisfied: click in c:\\users\\adity\\anaconda3\\lib\\site-packages (from nltk) (8.1.7)\n",
      "Requirement already satisfied: joblib in c:\\users\\adity\\anaconda3\\lib\\site-packages (from nltk) (1.4.2)\n",
      "Requirement already satisfied: regex>=2021.8.3 in c:\\users\\adity\\anaconda3\\lib\\site-packages (from nltk) (2023.10.3)\n",
      "Requirement already satisfied: tqdm in c:\\users\\adity\\anaconda3\\lib\\site-packages (from nltk) (4.66.4)\n",
      "Requirement already satisfied: colorama in c:\\users\\adity\\anaconda3\\lib\\site-packages (from click->nltk) (0.4.6)\n"
     ]
    }
   ],
   "source": [
    "!pip install nltk"
   ]
  },
  {
   "cell_type": "code",
   "execution_count": 9,
   "id": "58b22251-e927-4827-a4ba-d2f441d5b4c0",
   "metadata": {},
   "outputs": [],
   "source": [
    "# Import necessary modules\n",
    "import nltk\n",
    "import re\n",
    "from nltk.chat.util import Chat, reflections"
   ]
  },
  {
   "cell_type": "code",
   "execution_count": 11,
   "id": "e03252f3-3e2b-44dd-a5e2-4c548b6de2b3",
   "metadata": {},
   "outputs": [
    {
     "name": "stderr",
     "output_type": "stream",
     "text": [
      "[nltk_data] Downloading package punkt to\n",
      "[nltk_data]     C:\\Users\\adity\\AppData\\Roaming\\nltk_data...\n",
      "[nltk_data]   Package punkt is already up-to-date!\n",
      "[nltk_data] Downloading package averaged_perceptron_tagger to\n",
      "[nltk_data]     C:\\Users\\adity\\AppData\\Roaming\\nltk_data...\n",
      "[nltk_data]   Package averaged_perceptron_tagger is already up-to-\n",
      "[nltk_data]       date!\n"
     ]
    },
    {
     "data": {
      "text/plain": [
       "True"
      ]
     },
     "execution_count": 11,
     "metadata": {},
     "output_type": "execute_result"
    }
   ],
   "source": [
    "# Download NLTK data\n",
    "nltk.download('punkt')\n",
    "nltk.download('averaged_perceptron_tagger')"
   ]
  },
  {
   "cell_type": "code",
   "execution_count": 39,
   "id": "f7193384-b8d8-4e88-a83a-4bf40352c534",
   "metadata": {},
   "outputs": [],
   "source": [
    "# Define patterns and responses\n",
    "pairs = [\n",
    "    [r\"my name is (.*)\", [\"Hello %1, how can I assist you today?\",]],\n",
    "    [r\"hi|hey|hello\", [\"Hello, how can I help you?\", \"Hey there! What can I do for you?\", \n",
    "                       \"Hi! How can I assist you today?\"]],\n",
    "    [r\"what is your name?\", [\"I am a chatbot created to assist you. You can call me Chatbot.\",]],\n",
    "    [r\"how are you?\", [\"I'm a bot, so I don't have feelings, but I'm here to help you!\",]],\n",
    "    [r\"can you help me with (.*)\", [\"Sure, I can help you with %1. Please provide more details.\",]],\n",
    "    [r\"sorry (.*)\", [\"It's okay. How can I assist you?\",]],\n",
    "    [r\"thank you|thanks\", [\"You're welcome!\", \"No problem!\", \"Happy to help!\"]],\n",
    "    [r\"quit\", [\"Bye! Have a great day!\", \"Goodbye!\"]],\n",
    "    [r\"best place (.*)\", [\"Hyderabad\",\"Banglore\",\"Vizag\", \"Mumbai\"]],\n",
    "    [r\"(.*)\", [\"I'm sorry, I don't understand that. Can you rephrase?\", \n",
    "               \"Could you please elaborate on that?\"]],\n",
    "    [r\"(golden|temple(.*)\", [\"It is in amristar, india\"]]\n",
    "]"
   ]
  },
  {
   "cell_type": "code",
   "execution_count": 41,
   "id": "a525e031-49ae-4b55-907b-4c1d37239d03",
   "metadata": {},
   "outputs": [],
   "source": [
    "# Define the chatbot class\n",
    "class RBChatbot:\n",
    "    def __init__(self, pairs):\n",
    "        self.chat = Chat(pairs, reflections)\n",
    "    def respond(self, user_input):\n",
    "        return self.chat.respond(user_input)\n",
    "# Initialize the chatbot\n",
    "chatbot = RBChatbot(pairs)"
   ]
  },
  {
   "cell_type": "code",
   "execution_count": 45,
   "id": "7156030d-ad0a-421d-b21e-fd0dd880d3d6",
   "metadata": {},
   "outputs": [
    {
     "name": "stdout",
     "output_type": "stream",
     "text": [
      "Hi, I'm your chatbot. Type 'quit' to exit.\n"
     ]
    },
    {
     "name": "stdout",
     "output_type": "stream",
     "text": [
      "You:  golden\n"
     ]
    },
    {
     "name": "stdout",
     "output_type": "stream",
     "text": [
      "Chatbot: Could you please elaborate on that?\n"
     ]
    },
    {
     "name": "stdout",
     "output_type": "stream",
     "text": [
      "You:  golden temple\n"
     ]
    },
    {
     "name": "stdout",
     "output_type": "stream",
     "text": [
      "Chatbot: I'm sorry, I don't understand that. Can you rephrase?\n"
     ]
    },
    {
     "name": "stdout",
     "output_type": "stream",
     "text": [
      "You:  quit\n"
     ]
    },
    {
     "name": "stdout",
     "output_type": "stream",
     "text": [
      "Chatbot: Bye! Have a great day!\n"
     ]
    }
   ],
   "source": [
    "def chat_with_bot():\n",
    "    print(\"Hi, I'm your chatbot. Type 'quit' to exit.\")\n",
    "    while True:\n",
    "        user_input = input(\"You: \")\n",
    "        if user_input.lower() == 'quit':\n",
    "            print(\"Chatbot: Bye! Have a great day!\")\n",
    "            break\n",
    "        response = chatbot.respond(user_input)\n",
    "        print(f\"Chatbot: {response}\")\n",
    "chat_with_bot()"
   ]
  },
  {
   "cell_type": "code",
   "execution_count": null,
   "id": "73042ce9-a506-48c7-92b7-aced60bb3946",
   "metadata": {},
   "outputs": [],
   "source": [
    "pip install transformers torch"
   ]
  },
  {
   "cell_type": "code",
   "execution_count": null,
   "id": "8a6daf5c-5ef4-460c-bb56-b6f5abcb4835",
   "metadata": {},
   "outputs": [],
   "source": [
    "from transformers import BertForQuestionAnswering, BertTokenizer\n",
    "\n",
    "import torch\n",
    "\n",
    "# Load pre-trained BERT model and tokenizer\n",
    "\n",
    "model_name = \"deepset/bert-base-cased-squad2\"  # BERT trained on SQuAD 2.0\n",
    "\n",
    "tokenizer = BertTokenizer.from_pretrained(model_name)\n",
    "\n",
    "model = BertForQuestionAnswering.from_pretrained(model_name)"
   ]
  },
  {
   "cell_type": "code",
   "execution_count": null,
   "id": "0146eb44-ea23-4343-9c05-3f28bfeb780f",
   "metadata": {},
   "outputs": [],
   "source": []
  }
 ],
 "metadata": {
  "kernelspec": {
   "display_name": "Python 3 (ipykernel)",
   "language": "python",
   "name": "python3"
  },
  "language_info": {
   "codemirror_mode": {
    "name": "ipython",
    "version": 3
   },
   "file_extension": ".py",
   "mimetype": "text/x-python",
   "name": "python",
   "nbconvert_exporter": "python",
   "pygments_lexer": "ipython3",
   "version": "3.12.4"
  }
 },
 "nbformat": 4,
 "nbformat_minor": 5
}
